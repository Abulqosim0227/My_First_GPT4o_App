{
  "nbformat": 4,
  "nbformat_minor": 0,
  "metadata": {
    "colab": {
      "provenance": []
    },
    "kernelspec": {
      "name": "python3",
      "display_name": "Python 3"
    },
    "language_info": {
      "name": "python"
    }
  },
  "cells": [
    {
      "cell_type": "markdown",
      "source": [
        "# **My First GPT4o App**\n",
        "\n",
        "This tutorial is based on the GPT4o by OpenAI. This notebook shows how to use GPT4o in Google Colab\n",
        "\n",
        "\n",
        "### **Steps Covered in this Tutorial**\n",
        "\n",
        "To run GPT4o in Google Colab successfully we will follow the following steps:\n",
        "\n",
        "1. Setup\n",
        "2. Running GPT4o with Context\n",
        "\n",
        "\n",
        "# **Want to Become a AI Expert?**\n",
        "💻 [ Get Started](https://www.augmentedstartups.com/ai-university-signup) with GPT4o & OpenSource LLMs in Augmented AI University.  <br>\n",
        "⭐ Download other Projects at the [AI Project Store](https://store.augmentedstartups.com)<br>\n",
        "🎓 Follow me on [LinkedIn](https://store.augmentedstartups.info/linkedin)<br>\n",
        "☕ Enjoyed this Tutorial? - Support me by Buying Me a [Chai/Coffee](https://bit.ly/BuymeaCoffeeAS)\n",
        "\n",
        "\n",
        "# **About**\n",
        "\n",
        "[Augmented AI](https://www.augmentedstartups.com) provides tutorials in Generative AI, LLM's Computer Vision and Augmented Reality. With over **115K subscribers** on our channel, we teach state-of-art models and build apps and projects that solve real-world problems.\n",
        "\n",
        "\n",
        "![picture](https://kajabi-storefronts-production.kajabi-cdn.com/kajabi-storefronts-production/file-uploads/themes/2153492442/settings_images/68f14d3-2fce-812-501b-a8b4221f6d_Augmented_AI_Logo.png)\n",
        "\n",
        "\n",
        "\n"
      ],
      "metadata": {
        "id": "VQWexN8NerKW"
      }
    },
    {
      "cell_type": "code",
      "source": [
        "!pip install openai\n"
      ],
      "metadata": {
        "colab": {
          "base_uri": "https://localhost:8080/"
        },
        "id": "sAye7Z3X8Tf2",
        "outputId": "28ccdbe0-0429-46c5-a921-d883498d9bba"
      },
      "execution_count": null,
      "outputs": [
        {
          "output_type": "stream",
          "name": "stdout",
          "text": [
            "Requirement already satisfied: openai in /usr/local/lib/python3.10/dist-packages (1.30.2)\n",
            "Requirement already satisfied: anyio<5,>=3.5.0 in /usr/local/lib/python3.10/dist-packages (from openai) (3.7.1)\n",
            "Requirement already satisfied: distro<2,>=1.7.0 in /usr/lib/python3/dist-packages (from openai) (1.7.0)\n",
            "Requirement already satisfied: httpx<1,>=0.23.0 in /usr/local/lib/python3.10/dist-packages (from openai) (0.27.0)\n",
            "Requirement already satisfied: pydantic<3,>=1.9.0 in /usr/local/lib/python3.10/dist-packages (from openai) (2.7.1)\n",
            "Requirement already satisfied: sniffio in /usr/local/lib/python3.10/dist-packages (from openai) (1.3.1)\n",
            "Requirement already satisfied: tqdm>4 in /usr/local/lib/python3.10/dist-packages (from openai) (4.66.4)\n",
            "Requirement already satisfied: typing-extensions<5,>=4.7 in /usr/local/lib/python3.10/dist-packages (from openai) (4.11.0)\n",
            "Requirement already satisfied: idna>=2.8 in /usr/local/lib/python3.10/dist-packages (from anyio<5,>=3.5.0->openai) (3.7)\n",
            "Requirement already satisfied: exceptiongroup in /usr/local/lib/python3.10/dist-packages (from anyio<5,>=3.5.0->openai) (1.2.1)\n",
            "Requirement already satisfied: certifi in /usr/local/lib/python3.10/dist-packages (from httpx<1,>=0.23.0->openai) (2024.2.2)\n",
            "Requirement already satisfied: httpcore==1.* in /usr/local/lib/python3.10/dist-packages (from httpx<1,>=0.23.0->openai) (1.0.5)\n",
            "Requirement already satisfied: h11<0.15,>=0.13 in /usr/local/lib/python3.10/dist-packages (from httpcore==1.*->httpx<1,>=0.23.0->openai) (0.14.0)\n",
            "Requirement already satisfied: annotated-types>=0.4.0 in /usr/local/lib/python3.10/dist-packages (from pydantic<3,>=1.9.0->openai) (0.7.0)\n",
            "Requirement already satisfied: pydantic-core==2.18.2 in /usr/local/lib/python3.10/dist-packages (from pydantic<3,>=1.9.0->openai) (2.18.2)\n"
          ]
        }
      ]
    },
    {
      "cell_type": "markdown",
      "source": [
        "**Before running please ensure that you get your API key from [OpenAI ](https://platform.openai.com/api-keys)**"
      ],
      "metadata": {
        "id": "Hguuk1u_0Pu3"
      }
    },
    {
      "cell_type": "code",
      "execution_count": null,
      "metadata": {
        "id": "6j34U6DX7YSu"
      },
      "outputs": [],
      "source": [
        "import os\n",
        "from openai import OpenAI\n",
        "\n",
        "\n",
        "client = OpenAI(api_key=os.environ.get(\"OPENAI_API_KEY\", \"<INSERT YOUR API KEY\"))\n",
        "\n",
        "context = []\n",
        "\n",
        "def gpt_agent(prompt,ai_model):\n",
        "    global context\n",
        "    messages = [{\"role\": \"system\", \"content\": \"Helpful Assistant\"}]\n",
        "    messages.extend([{\"role\": \"user\", \"content\": msg} for msg in context])\n",
        "    messages.append({\"role\": \"user\", \"content\": prompt})\n",
        "\n",
        "    completion = client.chat.completions.create(\n",
        "        model=ai_model,\n",
        "        messages=messages\n",
        "    )\n",
        "\n",
        "    response = completion.choices[0].message.content\n",
        "    context.append(prompt)\n",
        "    context.append(response)\n",
        "    return response\n"
      ]
    },
    {
      "cell_type": "code",
      "source": [
        "gpt_agent(\"Remember the number 384\",\"gpt-4o\")"
      ],
      "metadata": {
        "colab": {
          "base_uri": "https://localhost:8080/",
          "height": 35
        },
        "id": "45jekfru8h7c",
        "outputId": "0292b6b8-46a1-49f3-dda9-6e10790696ac"
      },
      "execution_count": null,
      "outputs": [
        {
          "output_type": "execute_result",
          "data": {
            "text/plain": [
              "\"Got it! I'll continue to remember the number 384. If there’s anything else you need, feel free to let me know!\""
            ],
            "application/vnd.google.colaboratory.intrinsic+json": {
              "type": "string"
            }
          },
          "metadata": {},
          "execution_count": 15
        }
      ]
    },
    {
      "cell_type": "code",
      "source": [
        "gpt_agent(\"What number did I ask you to remember?\",\"gpt-4o\")"
      ],
      "metadata": {
        "colab": {
          "base_uri": "https://localhost:8080/",
          "height": 35
        },
        "id": "XHGiMqxHAxuL",
        "outputId": "644f1e79-9230-4733-c170-4110c8ee8605"
      },
      "execution_count": null,
      "outputs": [
        {
          "output_type": "execute_result",
          "data": {
            "text/plain": [
              "'You asked me to remember the number 384.'"
            ],
            "application/vnd.google.colaboratory.intrinsic+json": {
              "type": "string"
            }
          },
          "metadata": {},
          "execution_count": 16
        }
      ]
    },
    {
      "cell_type": "code",
      "source": [],
      "metadata": {
        "id": "oukJYysQ08HC"
      },
      "execution_count": null,
      "outputs": []
    },
    {
      "cell_type": "markdown",
      "source": [
        "# **Enjoyed this Tutorial?**  \n",
        "☕Support me by Buying Me a [Chai/Coffee](https://bit.ly/BuymeaCoffeeAS)\n",
        "\n",
        "# **Want to Learn More Gen-AI, LLMs & AI Vision?**\n",
        "💻Courses in Computer Vision [Enroll Now](https://augmentedstartups.com/store). <br>\n",
        "⭐ Download Other Projects at the [AI Vision Store](https://store.augmentedstartups.com)<br>\n",
        "▶️ Subscribe to my [YouTube Channel](https://augmentedstartups.info/youtube)<br>\n",
        "\n",
        "\n",
        "<img src=\"https://kajabi-storefronts-production.kajabi-cdn.com/kajabi-storefronts-production/file-uploads/themes/2153492442/settings_images/68f14d3-2fce-812-501b-a8b4221f6d_Augmented_AI_Logo.png\" width=\"200\" height=\"auto\" alt=\"Augmented AI Logo\">\n"
      ],
      "metadata": {
        "id": "rHcSYUFjlSak"
      }
    }
  ]
}